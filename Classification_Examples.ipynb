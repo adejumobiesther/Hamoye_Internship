{
 "cells": [
  {
   "cell_type": "code",
   "execution_count": 1,
   "metadata": {},
   "outputs": [],
   "source": [
    "import pandas as pd\n",
    "import matplotlib.pyplot as plt\n",
    "import seaborn as sns\n",
    "sns.set()"
   ]
  },
  {
   "cell_type": "code",
   "execution_count": 2,
   "metadata": {},
   "outputs": [
    {
     "name": "stderr",
     "output_type": "stream",
     "text": [
      "C:\\Users\\hp 15\\AppData\\Local\\Programs\\Python\\Python36-32\\lib\\site-packages\\IPython\\core\\interactiveshell.py:3063: DtypeWarning: Columns (6) have mixed types.Specify dtype option on import or set low_memory=False.\n",
      "  interactivity=interactivity, compiler=compiler, result=result)\n"
     ]
    }
   ],
   "source": [
    "data = pd.read_csv(r'C:\\Users\\hp 15\\Downloads\\NFA 2019 public_data.csv')"
   ]
  },
  {
   "cell_type": "code",
   "execution_count": 3,
   "metadata": {},
   "outputs": [
    {
     "data": {
      "text/html": [
       "<div>\n",
       "<style scoped>\n",
       "    .dataframe tbody tr th:only-of-type {\n",
       "        vertical-align: middle;\n",
       "    }\n",
       "\n",
       "    .dataframe tbody tr th {\n",
       "        vertical-align: top;\n",
       "    }\n",
       "\n",
       "    .dataframe thead th {\n",
       "        text-align: right;\n",
       "    }\n",
       "</style>\n",
       "<table border=\"1\" class=\"dataframe\">\n",
       "  <thead>\n",
       "    <tr style=\"text-align: right;\">\n",
       "      <th></th>\n",
       "      <th>country</th>\n",
       "      <th>year</th>\n",
       "      <th>country_code</th>\n",
       "      <th>record</th>\n",
       "      <th>crop_land</th>\n",
       "      <th>grazing_land</th>\n",
       "      <th>forest_land</th>\n",
       "      <th>fishing_ground</th>\n",
       "      <th>built_up_land</th>\n",
       "      <th>carbon</th>\n",
       "      <th>total</th>\n",
       "      <th>QScore</th>\n",
       "    </tr>\n",
       "  </thead>\n",
       "  <tbody>\n",
       "    <tr>\n",
       "      <th>0</th>\n",
       "      <td>Armenia</td>\n",
       "      <td>1992</td>\n",
       "      <td>1</td>\n",
       "      <td>AreaPerCap</td>\n",
       "      <td>1.402924e-01</td>\n",
       "      <td>1.995463e-01</td>\n",
       "      <td>0.097188051</td>\n",
       "      <td>3.688847e-02</td>\n",
       "      <td>2.931995e-02</td>\n",
       "      <td>0.000000e+00</td>\n",
       "      <td>5.032351e-01</td>\n",
       "      <td>3A</td>\n",
       "    </tr>\n",
       "    <tr>\n",
       "      <th>1</th>\n",
       "      <td>Armenia</td>\n",
       "      <td>1992</td>\n",
       "      <td>1</td>\n",
       "      <td>AreaTotHA</td>\n",
       "      <td>4.830000e+05</td>\n",
       "      <td>6.870000e+05</td>\n",
       "      <td>334600</td>\n",
       "      <td>1.270000e+05</td>\n",
       "      <td>1.009430e+05</td>\n",
       "      <td>0.000000e+00</td>\n",
       "      <td>1.732543e+06</td>\n",
       "      <td>3A</td>\n",
       "    </tr>\n",
       "    <tr>\n",
       "      <th>2</th>\n",
       "      <td>Armenia</td>\n",
       "      <td>1992</td>\n",
       "      <td>1</td>\n",
       "      <td>BiocapPerCap</td>\n",
       "      <td>1.598044e-01</td>\n",
       "      <td>1.352610e-01</td>\n",
       "      <td>0.084003213</td>\n",
       "      <td>1.374213e-02</td>\n",
       "      <td>3.339780e-02</td>\n",
       "      <td>0.000000e+00</td>\n",
       "      <td>4.262086e-01</td>\n",
       "      <td>3A</td>\n",
       "    </tr>\n",
       "    <tr>\n",
       "      <th>3</th>\n",
       "      <td>Armenia</td>\n",
       "      <td>1992</td>\n",
       "      <td>1</td>\n",
       "      <td>BiocapTotGHA</td>\n",
       "      <td>5.501762e+05</td>\n",
       "      <td>4.656780e+05</td>\n",
       "      <td>289207.1078</td>\n",
       "      <td>4.731155e+04</td>\n",
       "      <td>1.149823e+05</td>\n",
       "      <td>0.000000e+00</td>\n",
       "      <td>1.467355e+06</td>\n",
       "      <td>3A</td>\n",
       "    </tr>\n",
       "    <tr>\n",
       "      <th>4</th>\n",
       "      <td>Armenia</td>\n",
       "      <td>1992</td>\n",
       "      <td>1</td>\n",
       "      <td>EFConsPerCap</td>\n",
       "      <td>3.875102e-01</td>\n",
       "      <td>1.894622e-01</td>\n",
       "      <td>1.26E-06</td>\n",
       "      <td>4.164833e-03</td>\n",
       "      <td>3.339780e-02</td>\n",
       "      <td>1.114093e+00</td>\n",
       "      <td>1.728629e+00</td>\n",
       "      <td>3A</td>\n",
       "    </tr>\n",
       "    <tr>\n",
       "      <th>...</th>\n",
       "      <td>...</td>\n",
       "      <td>...</td>\n",
       "      <td>...</td>\n",
       "      <td>...</td>\n",
       "      <td>...</td>\n",
       "      <td>...</td>\n",
       "      <td>...</td>\n",
       "      <td>...</td>\n",
       "      <td>...</td>\n",
       "      <td>...</td>\n",
       "      <td>...</td>\n",
       "      <td>...</td>\n",
       "    </tr>\n",
       "    <tr>\n",
       "      <th>72181</th>\n",
       "      <td>World</td>\n",
       "      <td>2016</td>\n",
       "      <td>5001</td>\n",
       "      <td>BiocapTotGHA</td>\n",
       "      <td>3.984702e+09</td>\n",
       "      <td>1.504757e+09</td>\n",
       "      <td>5.11176e+09</td>\n",
       "      <td>1.095445e+09</td>\n",
       "      <td>4.726163e+08</td>\n",
       "      <td>0.000000e+00</td>\n",
       "      <td>1.216928e+10</td>\n",
       "      <td>3A</td>\n",
       "    </tr>\n",
       "    <tr>\n",
       "      <th>72182</th>\n",
       "      <td>World</td>\n",
       "      <td>2016</td>\n",
       "      <td>5001</td>\n",
       "      <td>EFConsPerCap</td>\n",
       "      <td>5.336445e-01</td>\n",
       "      <td>1.402092e-01</td>\n",
       "      <td>0.273495</td>\n",
       "      <td>8.974253e-02</td>\n",
       "      <td>6.329435e-02</td>\n",
       "      <td>1.646235e+00</td>\n",
       "      <td>2.746619e+00</td>\n",
       "      <td>3A</td>\n",
       "    </tr>\n",
       "    <tr>\n",
       "      <th>72183</th>\n",
       "      <td>World</td>\n",
       "      <td>2016</td>\n",
       "      <td>5001</td>\n",
       "      <td>EFConsTotGHA</td>\n",
       "      <td>3.984702e+09</td>\n",
       "      <td>1.046937e+09</td>\n",
       "      <td>2.04218e+09</td>\n",
       "      <td>6.701039e+08</td>\n",
       "      <td>4.726163e+08</td>\n",
       "      <td>1.229237e+10</td>\n",
       "      <td>2.050891e+10</td>\n",
       "      <td>3A</td>\n",
       "    </tr>\n",
       "    <tr>\n",
       "      <th>72184</th>\n",
       "      <td>World</td>\n",
       "      <td>2016</td>\n",
       "      <td>5001</td>\n",
       "      <td>EFProdPerCap</td>\n",
       "      <td>5.336445e-01</td>\n",
       "      <td>1.402092e-01</td>\n",
       "      <td>0.273495</td>\n",
       "      <td>8.974253e-02</td>\n",
       "      <td>6.329435e-02</td>\n",
       "      <td>1.646235e+00</td>\n",
       "      <td>2.746619e+00</td>\n",
       "      <td>3A</td>\n",
       "    </tr>\n",
       "    <tr>\n",
       "      <th>72185</th>\n",
       "      <td>World</td>\n",
       "      <td>2016</td>\n",
       "      <td>5001</td>\n",
       "      <td>EFProdTotGHA</td>\n",
       "      <td>3.984702e+09</td>\n",
       "      <td>1.046937e+09</td>\n",
       "      <td>2.04218e+09</td>\n",
       "      <td>6.701039e+08</td>\n",
       "      <td>4.726163e+08</td>\n",
       "      <td>1.229237e+10</td>\n",
       "      <td>2.050891e+10</td>\n",
       "      <td>3A</td>\n",
       "    </tr>\n",
       "  </tbody>\n",
       "</table>\n",
       "<p>72186 rows × 12 columns</p>\n",
       "</div>"
      ],
      "text/plain": [
       "       country  year  country_code        record     crop_land  grazing_land  \\\n",
       "0      Armenia  1992             1    AreaPerCap  1.402924e-01  1.995463e-01   \n",
       "1      Armenia  1992             1     AreaTotHA  4.830000e+05  6.870000e+05   \n",
       "2      Armenia  1992             1  BiocapPerCap  1.598044e-01  1.352610e-01   \n",
       "3      Armenia  1992             1  BiocapTotGHA  5.501762e+05  4.656780e+05   \n",
       "4      Armenia  1992             1  EFConsPerCap  3.875102e-01  1.894622e-01   \n",
       "...        ...   ...           ...           ...           ...           ...   \n",
       "72181    World  2016          5001  BiocapTotGHA  3.984702e+09  1.504757e+09   \n",
       "72182    World  2016          5001  EFConsPerCap  5.336445e-01  1.402092e-01   \n",
       "72183    World  2016          5001  EFConsTotGHA  3.984702e+09  1.046937e+09   \n",
       "72184    World  2016          5001  EFProdPerCap  5.336445e-01  1.402092e-01   \n",
       "72185    World  2016          5001  EFProdTotGHA  3.984702e+09  1.046937e+09   \n",
       "\n",
       "       forest_land  fishing_ground  built_up_land        carbon         total  \\\n",
       "0      0.097188051    3.688847e-02   2.931995e-02  0.000000e+00  5.032351e-01   \n",
       "1           334600    1.270000e+05   1.009430e+05  0.000000e+00  1.732543e+06   \n",
       "2      0.084003213    1.374213e-02   3.339780e-02  0.000000e+00  4.262086e-01   \n",
       "3      289207.1078    4.731155e+04   1.149823e+05  0.000000e+00  1.467355e+06   \n",
       "4         1.26E-06    4.164833e-03   3.339780e-02  1.114093e+00  1.728629e+00   \n",
       "...            ...             ...            ...           ...           ...   \n",
       "72181  5.11176e+09    1.095445e+09   4.726163e+08  0.000000e+00  1.216928e+10   \n",
       "72182     0.273495    8.974253e-02   6.329435e-02  1.646235e+00  2.746619e+00   \n",
       "72183  2.04218e+09    6.701039e+08   4.726163e+08  1.229237e+10  2.050891e+10   \n",
       "72184     0.273495    8.974253e-02   6.329435e-02  1.646235e+00  2.746619e+00   \n",
       "72185  2.04218e+09    6.701039e+08   4.726163e+08  1.229237e+10  2.050891e+10   \n",
       "\n",
       "      QScore  \n",
       "0         3A  \n",
       "1         3A  \n",
       "2         3A  \n",
       "3         3A  \n",
       "4         3A  \n",
       "...      ...  \n",
       "72181     3A  \n",
       "72182     3A  \n",
       "72183     3A  \n",
       "72184     3A  \n",
       "72185     3A  \n",
       "\n",
       "[72186 rows x 12 columns]"
      ]
     },
     "execution_count": 3,
     "metadata": {},
     "output_type": "execute_result"
    }
   ],
   "source": [
    "data"
   ]
  },
  {
   "cell_type": "code",
   "execution_count": 4,
   "metadata": {},
   "outputs": [
    {
     "data": {
      "text/html": [
       "<div>\n",
       "<style scoped>\n",
       "    .dataframe tbody tr th:only-of-type {\n",
       "        vertical-align: middle;\n",
       "    }\n",
       "\n",
       "    .dataframe tbody tr th {\n",
       "        vertical-align: top;\n",
       "    }\n",
       "\n",
       "    .dataframe thead th {\n",
       "        text-align: right;\n",
       "    }\n",
       "</style>\n",
       "<table border=\"1\" class=\"dataframe\">\n",
       "  <thead>\n",
       "    <tr style=\"text-align: right;\">\n",
       "      <th></th>\n",
       "      <th>year</th>\n",
       "      <th>country_code</th>\n",
       "      <th>crop_land</th>\n",
       "      <th>grazing_land</th>\n",
       "      <th>fishing_ground</th>\n",
       "      <th>built_up_land</th>\n",
       "      <th>carbon</th>\n",
       "      <th>total</th>\n",
       "    </tr>\n",
       "  </thead>\n",
       "  <tbody>\n",
       "    <tr>\n",
       "      <th>count</th>\n",
       "      <td>72186.000000</td>\n",
       "      <td>72186.000000</td>\n",
       "      <td>5.171400e+04</td>\n",
       "      <td>5.171400e+04</td>\n",
       "      <td>5.171300e+04</td>\n",
       "      <td>5.171300e+04</td>\n",
       "      <td>5.171300e+04</td>\n",
       "      <td>7.217700e+04</td>\n",
       "    </tr>\n",
       "    <tr>\n",
       "      <th>mean</th>\n",
       "      <td>1990.263154</td>\n",
       "      <td>155.618915</td>\n",
       "      <td>1.920772e+07</td>\n",
       "      <td>1.352875e+07</td>\n",
       "      <td>1.004860e+07</td>\n",
       "      <td>1.984737e+06</td>\n",
       "      <td>3.072609e+07</td>\n",
       "      <td>7.792960e+07</td>\n",
       "    </tr>\n",
       "    <tr>\n",
       "      <th>std</th>\n",
       "      <td>16.018761</td>\n",
       "      <td>390.261979</td>\n",
       "      <td>1.685819e+08</td>\n",
       "      <td>1.294180e+08</td>\n",
       "      <td>1.081375e+08</td>\n",
       "      <td>1.730488e+07</td>\n",
       "      <td>3.989630e+08</td>\n",
       "      <td>7.455443e+08</td>\n",
       "    </tr>\n",
       "    <tr>\n",
       "      <th>min</th>\n",
       "      <td>1961.000000</td>\n",
       "      <td>1.000000</td>\n",
       "      <td>0.000000e+00</td>\n",
       "      <td>0.000000e+00</td>\n",
       "      <td>0.000000e+00</td>\n",
       "      <td>0.000000e+00</td>\n",
       "      <td>0.000000e+00</td>\n",
       "      <td>1.876963e-02</td>\n",
       "    </tr>\n",
       "    <tr>\n",
       "      <th>25%</th>\n",
       "      <td>1977.000000</td>\n",
       "      <td>59.000000</td>\n",
       "      <td>3.581080e-01</td>\n",
       "      <td>1.948302e-01</td>\n",
       "      <td>8.005409e-02</td>\n",
       "      <td>3.786298e-02</td>\n",
       "      <td>0.000000e+00</td>\n",
       "      <td>1.894023e+00</td>\n",
       "    </tr>\n",
       "    <tr>\n",
       "      <th>50%</th>\n",
       "      <td>1991.000000</td>\n",
       "      <td>121.000000</td>\n",
       "      <td>3.251810e+00</td>\n",
       "      <td>9.978667e+00</td>\n",
       "      <td>6.154094e+00</td>\n",
       "      <td>2.044437e-01</td>\n",
       "      <td>0.000000e+00</td>\n",
       "      <td>8.292253e+03</td>\n",
       "    </tr>\n",
       "    <tr>\n",
       "      <th>75%</th>\n",
       "      <td>2004.000000</td>\n",
       "      <td>193.000000</td>\n",
       "      <td>3.610817e+06</td>\n",
       "      <td>1.734192e+06</td>\n",
       "      <td>9.450000e+05</td>\n",
       "      <td>3.867180e+05</td>\n",
       "      <td>1.915736e+01</td>\n",
       "      <td>1.532959e+07</td>\n",
       "    </tr>\n",
       "    <tr>\n",
       "      <th>max</th>\n",
       "      <td>2016.000000</td>\n",
       "      <td>5001.000000</td>\n",
       "      <td>3.984702e+09</td>\n",
       "      <td>3.417089e+09</td>\n",
       "      <td>2.979605e+09</td>\n",
       "      <td>4.726163e+08</td>\n",
       "      <td>1.257160e+10</td>\n",
       "      <td>2.061182e+10</td>\n",
       "    </tr>\n",
       "  </tbody>\n",
       "</table>\n",
       "</div>"
      ],
      "text/plain": [
       "               year  country_code     crop_land  grazing_land  fishing_ground  \\\n",
       "count  72186.000000  72186.000000  5.171400e+04  5.171400e+04    5.171300e+04   \n",
       "mean    1990.263154    155.618915  1.920772e+07  1.352875e+07    1.004860e+07   \n",
       "std       16.018761    390.261979  1.685819e+08  1.294180e+08    1.081375e+08   \n",
       "min     1961.000000      1.000000  0.000000e+00  0.000000e+00    0.000000e+00   \n",
       "25%     1977.000000     59.000000  3.581080e-01  1.948302e-01    8.005409e-02   \n",
       "50%     1991.000000    121.000000  3.251810e+00  9.978667e+00    6.154094e+00   \n",
       "75%     2004.000000    193.000000  3.610817e+06  1.734192e+06    9.450000e+05   \n",
       "max     2016.000000   5001.000000  3.984702e+09  3.417089e+09    2.979605e+09   \n",
       "\n",
       "       built_up_land        carbon         total  \n",
       "count   5.171300e+04  5.171300e+04  7.217700e+04  \n",
       "mean    1.984737e+06  3.072609e+07  7.792960e+07  \n",
       "std     1.730488e+07  3.989630e+08  7.455443e+08  \n",
       "min     0.000000e+00  0.000000e+00  1.876963e-02  \n",
       "25%     3.786298e-02  0.000000e+00  1.894023e+00  \n",
       "50%     2.044437e-01  0.000000e+00  8.292253e+03  \n",
       "75%     3.867180e+05  1.915736e+01  1.532959e+07  \n",
       "max     4.726163e+08  1.257160e+10  2.061182e+10  "
      ]
     },
     "execution_count": 4,
     "metadata": {},
     "output_type": "execute_result"
    }
   ],
   "source": [
    "data.describe()"
   ]
  },
  {
   "cell_type": "code",
   "execution_count": 5,
   "metadata": {},
   "outputs": [
    {
     "data": {
      "text/plain": [
       "country               0\n",
       "year                  0\n",
       "country_code          0\n",
       "record                0\n",
       "crop_land         20472\n",
       "grazing_land      20472\n",
       "forest_land       20472\n",
       "fishing_ground    20473\n",
       "built_up_land     20473\n",
       "carbon            20473\n",
       "total                 9\n",
       "QScore                1\n",
       "dtype: int64"
      ]
     },
     "execution_count": 5,
     "metadata": {},
     "output_type": "execute_result"
    }
   ],
   "source": [
    "data.isnull().sum()"
   ]
  },
  {
   "cell_type": "code",
   "execution_count": 6,
   "metadata": {},
   "outputs": [
    {
     "data": {
      "text/plain": [
       "3A    51481\n",
       "2A    10576\n",
       "2B    10096\n",
       "1B       16\n",
       "1A       16\n",
       "Name: QScore, dtype: int64"
      ]
     },
     "execution_count": 6,
     "metadata": {},
     "output_type": "execute_result"
    }
   ],
   "source": [
    "#checks distribution of the target variable\n",
    "data['QScore'].value_counts()"
   ]
  },
  {
   "cell_type": "code",
   "execution_count": 7,
   "metadata": {},
   "outputs": [],
   "source": [
    "#Dropping all the rows with missing values\n",
    "data.dropna(inplace = True)"
   ]
  },
  {
   "cell_type": "code",
   "execution_count": 8,
   "metadata": {},
   "outputs": [
    {
     "data": {
      "text/plain": [
       "country           0\n",
       "year              0\n",
       "country_code      0\n",
       "record            0\n",
       "crop_land         0\n",
       "grazing_land      0\n",
       "forest_land       0\n",
       "fishing_ground    0\n",
       "built_up_land     0\n",
       "carbon            0\n",
       "total             0\n",
       "QScore            0\n",
       "dtype: int64"
      ]
     },
     "execution_count": 8,
     "metadata": {},
     "output_type": "execute_result"
    }
   ],
   "source": [
    "data.isnull().sum()"
   ]
  },
  {
   "cell_type": "code",
   "execution_count": 9,
   "metadata": {},
   "outputs": [
    {
     "data": {
      "text/plain": [
       "3A    51473\n",
       "2A      224\n",
       "1A       16\n",
       "Name: QScore, dtype: int64"
      ]
     },
     "execution_count": 9,
     "metadata": {},
     "output_type": "execute_result"
    }
   ],
   "source": [
    "#After dropping the missing rows, only three classes are left in our target variable\n",
    "data['QScore'].value_counts()"
   ]
  },
  {
   "cell_type": "code",
   "execution_count": 10,
   "metadata": {},
   "outputs": [],
   "source": [
    "#converting the problem into a binary classification problem\n",
    "data.QScore = data.QScore.replace('1A', '2A')"
   ]
  },
  {
   "cell_type": "code",
   "execution_count": 11,
   "metadata": {},
   "outputs": [
    {
     "data": {
      "text/plain": [
       "3A    51473\n",
       "2A      240\n",
       "Name: QScore, dtype: int64"
      ]
     },
     "execution_count": 11,
     "metadata": {},
     "output_type": "execute_result"
    }
   ],
   "source": [
    "data.QScore.value_counts()"
   ]
  },
  {
   "cell_type": "code",
   "execution_count": 12,
   "metadata": {},
   "outputs": [
    {
     "data": {
      "text/plain": [
       "(51713, 12)"
      ]
     },
     "execution_count": 12,
     "metadata": {},
     "output_type": "execute_result"
    }
   ],
   "source": [
    "data.shape"
   ]
  },
  {
   "cell_type": "code",
   "execution_count": 13,
   "metadata": {},
   "outputs": [],
   "source": [
    "df_2A = data[data['QScore'] == '2A']\n",
    "df_3A = data[data['QScore'] == '3A'].sample(350)"
   ]
  },
  {
   "cell_type": "code",
   "execution_count": 14,
   "metadata": {},
   "outputs": [],
   "source": [
    "new_data = df_2A.append(df_3A)"
   ]
  },
  {
   "cell_type": "code",
   "execution_count": 15,
   "metadata": {},
   "outputs": [
    {
     "data": {
      "text/plain": [
       "(590, 12)"
      ]
     },
     "execution_count": 15,
     "metadata": {},
     "output_type": "execute_result"
    }
   ],
   "source": [
    "new_data.shape"
   ]
  },
  {
   "cell_type": "code",
   "execution_count": 16,
   "metadata": {},
   "outputs": [
    {
     "data": {
      "text/plain": [
       "Index(['country', 'year', 'country_code', 'record', 'crop_land',\n",
       "       'grazing_land', 'forest_land', 'fishing_ground', 'built_up_land',\n",
       "       'carbon', 'total', 'QScore'],\n",
       "      dtype='object')"
      ]
     },
     "execution_count": 16,
     "metadata": {},
     "output_type": "execute_result"
    }
   ],
   "source": [
    "new_data.columns"
   ]
  },
  {
   "cell_type": "code",
   "execution_count": 17,
   "metadata": {},
   "outputs": [],
   "source": [
    "import sklearn.utils\n",
    "new_data = sklearn.utils.shuffle(new_data)\n",
    "new_data = new_data.reset_index(drop=True)"
   ]
  },
  {
   "cell_type": "code",
   "execution_count": 18,
   "metadata": {},
   "outputs": [],
   "source": [
    "new_data.drop(['country', 'year', 'country_code'],axis = 1, inplace = True)"
   ]
  },
  {
   "cell_type": "code",
   "execution_count": 19,
   "metadata": {},
   "outputs": [
    {
     "data": {
      "text/plain": [
       "Index(['record', 'crop_land', 'grazing_land', 'forest_land', 'fishing_ground',\n",
       "       'built_up_land', 'carbon', 'total', 'QScore'],\n",
       "      dtype='object')"
      ]
     },
     "execution_count": 19,
     "metadata": {},
     "output_type": "execute_result"
    }
   ],
   "source": [
    "new_data.columns"
   ]
  },
  {
   "cell_type": "code",
   "execution_count": 20,
   "metadata": {},
   "outputs": [],
   "source": [
    "x = new_data.drop(['QScore'], axis = 1)\n",
    "y = new_data['QScore']"
   ]
  },
  {
   "cell_type": "code",
   "execution_count": 21,
   "metadata": {},
   "outputs": [],
   "source": [
    "from sklearn.preprocessing import LabelEncoder\n",
    "encoder = LabelEncoder()\n",
    "x.record = encoder.fit_transform(x.record)"
   ]
  },
  {
   "cell_type": "code",
   "execution_count": 22,
   "metadata": {},
   "outputs": [
    {
     "data": {
      "text/plain": [
       "record              int32\n",
       "crop_land         float64\n",
       "grazing_land      float64\n",
       "forest_land        object\n",
       "fishing_ground    float64\n",
       "built_up_land     float64\n",
       "carbon            float64\n",
       "total             float64\n",
       "dtype: object"
      ]
     },
     "execution_count": 22,
     "metadata": {},
     "output_type": "execute_result"
    }
   ],
   "source": [
    "x.dtypes"
   ]
  },
  {
   "cell_type": "code",
   "execution_count": 23,
   "metadata": {},
   "outputs": [],
   "source": [
    "from sklearn.model_selection import train_test_split"
   ]
  },
  {
   "cell_type": "code",
   "execution_count": 24,
   "metadata": {},
   "outputs": [],
   "source": [
    "x_train, x_test, y_train, y_test = train_test_split(x,y, test_size = 0.3, random_state = 0)"
   ]
  },
  {
   "cell_type": "code",
   "execution_count": 25,
   "metadata": {},
   "outputs": [
    {
     "data": {
      "text/plain": [
       "3A    240\n",
       "2A    173\n",
       "Name: QScore, dtype: int64"
      ]
     },
     "execution_count": 25,
     "metadata": {},
     "output_type": "execute_result"
    }
   ],
   "source": [
    "#There is still an obvious imbalance\n",
    "y_train.value_counts()"
   ]
  },
  {
   "cell_type": "code",
   "execution_count": 26,
   "metadata": {},
   "outputs": [],
   "source": [
    "import imblearn\n",
    "from imblearn.over_sampling import SMOTE\n",
    "smote = SMOTE(random_state=1)\n",
    "x_train_balanced, y_balanced = smote.fit_sample(x_train, y_train)"
   ]
  },
  {
   "cell_type": "code",
   "execution_count": 27,
   "metadata": {},
   "outputs": [
    {
     "data": {
      "text/plain": [
       "3A    240\n",
       "2A    240\n",
       "Name: QScore, dtype: int64"
      ]
     },
     "execution_count": 27,
     "metadata": {},
     "output_type": "execute_result"
    }
   ],
   "source": [
    "y_balanced.value_counts()"
   ]
  },
  {
   "cell_type": "code",
   "execution_count": 28,
   "metadata": {},
   "outputs": [],
   "source": [
    "from sklearn.preprocessing import MinMaxScaler\n",
    "scaler = MinMaxScaler()\n",
    "normalised_train_df = pd.DataFrame(scaler.fit_transform(x_train_balanced.drop(['record'], axis = 1)),columns=x_train_balanced.drop(columns=['record']).columns)\n",
    "normalised_train_df['record'] = x_train_balanced['record']"
   ]
  },
  {
   "cell_type": "code",
   "execution_count": 30,
   "metadata": {},
   "outputs": [],
   "source": [
    "x_test = x_test.reset_index(drop=True)\n",
    "normalised_test_df = pd.DataFrame(scaler.fit_transform(x_test.drop(['record'], axis = 1)),columns=x_test.drop(columns=['record']).columns)\n",
    "normalised_test_df['record'] = x_test['record']"
   ]
  },
  {
   "cell_type": "code",
   "execution_count": 31,
   "metadata": {},
   "outputs": [
    {
     "data": {
      "text/plain": [
       "Index(['crop_land', 'grazing_land', 'forest_land', 'fishing_ground',\n",
       "       'built_up_land', 'carbon', 'total', 'record'],\n",
       "      dtype='object')"
      ]
     },
     "execution_count": 31,
     "metadata": {},
     "output_type": "execute_result"
    }
   ],
   "source": [
    "normalised_test_df.columns"
   ]
  },
  {
   "cell_type": "code",
   "execution_count": 32,
   "metadata": {},
   "outputs": [
    {
     "data": {
      "text/plain": [
       "LogisticRegression()"
      ]
     },
     "execution_count": 32,
     "metadata": {},
     "output_type": "execute_result"
    }
   ],
   "source": [
    "from sklearn.linear_model import LogisticRegression\n",
    "log_reg = LogisticRegression()\n",
    "log_reg.fit(normalised_train_df, y_balanced)"
   ]
  },
  {
   "cell_type": "code",
   "execution_count": 35,
   "metadata": {},
   "outputs": [],
   "source": [
    "new_prediction = log_reg.predict(normalised_test_df)"
   ]
  },
  {
   "cell_type": "code",
   "execution_count": 36,
   "metadata": {},
   "outputs": [
    {
     "name": "stdout",
     "output_type": "stream",
     "text": [
      "Accuracy: 42.0\n"
     ]
    }
   ],
   "source": [
    "from sklearn.metrics import accuracy_score\n",
    "accuracy = accuracy_score(y_true=y_test, y_pred=new_prediction)\n",
    "print('Accuracy: {}'.format(round(accuracy*100), 2))"
   ]
  },
  {
   "cell_type": "code",
   "execution_count": 37,
   "metadata": {},
   "outputs": [
    {
     "data": {
      "text/plain": [
       "array([[ 66,   1],\n",
       "       [101,   9]], dtype=int64)"
      ]
     },
     "execution_count": 37,
     "metadata": {},
     "output_type": "execute_result"
    }
   ],
   "source": [
    "from sklearn.metrics import confusion_matrix\n",
    "cfn_matrix = confusion_matrix(y_test, new_prediction, labels = ['2A', '3A'])\n",
    "cfn_matrix"
   ]
  },
  {
   "cell_type": "code",
   "execution_count": 38,
   "metadata": {},
   "outputs": [
    {
     "name": "stdout",
     "output_type": "stream",
     "text": [
      "Precision: 40.0\n"
     ]
    }
   ],
   "source": [
    "from sklearn.metrics import precision_score\n",
    "precision = precision_score(y_true=y_test, y_pred=new_prediction, pos_label='2A')\n",
    "print('Precision: {}'.format(round(precision*100), 2))"
   ]
  },
  {
   "cell_type": "code",
   "execution_count": 39,
   "metadata": {},
   "outputs": [
    {
     "name": "stdout",
     "output_type": "stream",
     "text": [
      "Recall: 99.0\n"
     ]
    }
   ],
   "source": [
    "from sklearn.metrics import recall_score\n",
    "recall = recall_score(y_true=y_test, y_pred=new_prediction, pos_label='2A')\n",
    "print('Recall: {}'.format(round(recall*100), 2))"
   ]
  },
  {
   "cell_type": "code",
   "execution_count": 40,
   "metadata": {},
   "outputs": [
    {
     "name": "stdout",
     "output_type": "stream",
     "text": [
      "F1: 56.0\n"
     ]
    }
   ],
   "source": [
    "from sklearn.metrics import f1_score\n",
    "f1 = f1_score(y_true=y_test, y_pred=new_prediction, pos_label='2A')\n",
    "print('F1: {}'.format(round(f1*100), 2))"
   ]
  },
  {
   "cell_type": "code",
   "execution_count": 41,
   "metadata": {},
   "outputs": [
    {
     "data": {
      "text/plain": [
       "array([0.45939182, 0.47712418, 0.51360905, 0.49803922, 0.50769231])"
      ]
     },
     "execution_count": 41,
     "metadata": {},
     "output_type": "execute_result"
    }
   ],
   "source": [
    "from sklearn.model_selection import cross_val_score\n",
    "scores = cross_val_score(log_reg, normalised_train_df, y_balanced, cv=5, scoring='f1_macro')\n",
    "scores"
   ]
  },
  {
   "cell_type": "code",
   "execution_count": 42,
   "metadata": {},
   "outputs": [],
   "source": [
    "from sklearn.model_selection import KFold\n",
    "kf = KFold(n_splits=5)\n",
    "spliting = kf.split(normalised_train_df) \n",
    "f1_scores = []\n",
    "for train_index, test_index in spliting:\n",
    "    train_x, test_x = normalised_train_df.iloc[train_index],normalised_train_df.iloc[test_index]\n",
    "    train_y, test_y = y_balanced[train_index], y_balanced[test_index]\n",
    "    log_model = LogisticRegression().fit(train_x, train_y)\n",
    "    f1_scores.append(f1_score(y_true=test_y, y_pred=log_model.predict(test_x), pos_label='2A')*100)"
   ]
  },
  {
   "cell_type": "code",
   "execution_count": 43,
   "metadata": {},
   "outputs": [
    {
     "data": {
      "text/plain": [
       "[56.25, 49.01960784313726, 64.56692913385827, 58.06451612903226, 0.0]"
      ]
     },
     "execution_count": 43,
     "metadata": {},
     "output_type": "execute_result"
    }
   ],
   "source": [
    "f1_scores"
   ]
  },
  {
   "cell_type": "code",
   "execution_count": 44,
   "metadata": {},
   "outputs": [
    {
     "data": {
      "text/plain": [
       "46.041666666666664"
      ]
     },
     "execution_count": 44,
     "metadata": {},
     "output_type": "execute_result"
    }
   ],
   "source": [
    "from sklearn.model_selection import LeaveOneOut\n",
    "loo = LeaveOneOut()\n",
    "scores = cross_val_score(log_reg, normalised_train_df, y_balanced, cv=loo, scoring='f1_macro')\n",
    "average_score = scores.mean() * 100\n",
    "average_score"
   ]
  },
  {
   "cell_type": "code",
   "execution_count": 45,
   "metadata": {},
   "outputs": [],
   "source": [
    "from sklearn.model_selection import StratifiedKFold\n",
    "import numpy as np\n",
    "skf = StratifiedKFold(n_splits=5, shuffle=True, random_state=1)\n",
    "f2_scores = []\n",
    "for train,test in skf.split(normalised_train_df, y_balanced):\n",
    "    X_train, X_test = np.array(normalised_train_df)[train],np.array(normalised_train_df)[test]\n",
    "    Y_train, Y_test  = y_balanced[train], y_balanced[test]\n",
    "    reg_model = LogisticRegression().fit(X_train, Y_train)\n",
    "    f2_scores.append(f1_score(y_true=Y_test, y_pred=reg_model.predict(X_test), pos_label='2A'))"
   ]
  },
  {
   "cell_type": "code",
   "execution_count": 46,
   "metadata": {},
   "outputs": [
    {
     "data": {
      "text/plain": [
       "[0.5818181818181819,\n",
       " 0.5873015873015872,\n",
       " 0.6491228070175438,\n",
       " 0.5517241379310345,\n",
       " 0.6037735849056604]"
      ]
     },
     "execution_count": 46,
     "metadata": {},
     "output_type": "execute_result"
    }
   ],
   "source": [
    "f2_scores"
   ]
  },
  {
   "cell_type": "code",
   "execution_count": null,
   "metadata": {},
   "outputs": [],
   "source": []
  }
 ],
 "metadata": {
  "kernelspec": {
   "display_name": "Python 3.6.1 32-bit",
   "language": "python",
   "name": "python36132bit081938d0149f48a8aaacb5bab460f3a2"
  },
  "language_info": {
   "codemirror_mode": {
    "name": "ipython",
    "version": 3
   },
   "file_extension": ".py",
   "mimetype": "text/x-python",
   "name": "python",
   "nbconvert_exporter": "python",
   "pygments_lexer": "ipython3",
   "version": "3.6.1"
  }
 },
 "nbformat": 4,
 "nbformat_minor": 4
}
